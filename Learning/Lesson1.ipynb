{
 "cells": [
  {
   "cell_type": "markdown",
   "metadata": {},
   "source": [
    "# Lesson 1: Introduction to Shell Scripting"
   ]
  },
  {
   "cell_type": "markdown",
   "metadata": {},
   "source": [
    "## 1. What is a Shell Script\n",
    "- ### Defination\n",
    "    A shell script is a text file containing a series of commands that the shell (the command-line interpreter) executes.\n",
    "    \n",
    "- ### Why use Them?\n",
    "    - Automate repetative tasks\n",
    "    - Simplify complex command sequence\n",
    "    - Enhance productivity with custom tools"
   ]
  },
  {
   "cell_type": "markdown",
   "metadata": {},
   "source": [
    "## 2. Components of a Basic Shell Script\n",
    "- ### Shebang: \n",
    "    The very first line in the script starts with a shebang(`#!`) followed by the path to the shell interpreter. For example:"
   ]
  },
  {
   "cell_type": "code",
   "execution_count": null,
   "metadata": {
    "vscode": {
     "languageId": "plaintext"
    }
   },
   "outputs": [],
   "source": [
    "#!/bin/bash"
   ]
  }
 ],
 "metadata": {
  "language_info": {
   "name": "python"
  }
 },
 "nbformat": 4,
 "nbformat_minor": 2
}
